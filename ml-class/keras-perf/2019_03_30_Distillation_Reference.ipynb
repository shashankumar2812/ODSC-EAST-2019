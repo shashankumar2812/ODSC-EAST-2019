{
 "cells": [
  {
   "cell_type": "code",
   "execution_count": 1,
   "metadata": {},
   "outputs": [
    {
     "name": "stderr",
     "output_type": "stream",
     "text": [
      "Using TensorFlow backend.\n"
     ]
    }
   ],
   "source": [
    "import keras\n",
    "from keras.datasets import cifar10\n",
    "from keras.preprocessing.image import ImageDataGenerator\n",
    "from keras.models import Sequential\n",
    "from keras.layers import Dense, Dropout, Activation, Flatten\n",
    "from keras.layers import Conv2D, MaxPooling2D\n",
    "import numpy as np\n",
    "\n",
    "import os\n",
    "import wandb\n",
    "from wandb.keras import WandbCallback\n",
    "from PIL import Image\n",
    "from keras.callbacks import ReduceLROnPlateau"
   ]
  },
  {
   "cell_type": "code",
   "execution_count": 2,
   "metadata": {},
   "outputs": [
    {
     "name": "stdout",
     "output_type": "stream",
     "text": [
      "W&B Run: https://app.wandb.ai/l2k2/Distillation/runs/lfozflvq\n",
      "Call `%%wandb` in the cell containing your training loop to display live results.\n"
     ]
    }
   ],
   "source": [
    "run = wandb.init(project=\"Distillation\", tensorboard=True)\n",
    "config = run.config\n",
    "config.dropout = 0.25\n",
    "config.dense_layer_nodes = 100\n",
    "config.learn_rate = 0.32  #0.01 \n",
    "config.batch_size = 1024  #32\n",
    "config.epochs = 100\n"
   ]
  },
  {
   "cell_type": "code",
   "execution_count": 3,
   "metadata": {},
   "outputs": [],
   "source": [
    "class_names = ['airplane','automobile','bird','cat','deer',\n",
    "               'dog','frog','horse','ship','truck']\n",
    "num_classes = len(class_names)\n",
    "\n",
    "(X_train, y_train), (X_test, y_test) = cifar10.load_data()\n",
    "\n",
    "# Convert class vectors to binary class matrices.\n",
    "y_train = keras.utils.to_categorical(y_train, num_classes)\n",
    "y_test = keras.utils.to_categorical(y_test, num_classes)\n",
    "\n",
    "# Normalize values into [0 to 1] because all default assume zero to one\n",
    "# We won't bother to fully sphere the data, removing median and divide by variance\n",
    "X_train = X_train.astype('float32') / 255.\n",
    "X_test = X_test.astype('float32') / 255.\n"
   ]
  },
  {
   "cell_type": "code",
   "execution_count": 13,
   "metadata": {},
   "outputs": [
    {
     "data": {
      "image/png": "[encoded data removed]",
      "text/plain": [
       "<Figure size 432x288 with 1 Axes>"
      ]
     },
     "metadata": {
      "needs_background": "light"
     },
     "output_type": "display_data"
    }
   ],
   "source": [
    "data = X_train[50]\n",
    "from matplotlib import pyplot as plt\n",
    "plt.imshow(data, interpolation='nearest')\n",
    "plt.show()"
   ]
  },
  {
   "cell_type": "code",
   "execution_count": null,
   "metadata": {},
   "outputs": [],
   "source": []
  },
  {
   "cell_type": "code",
   "execution_count": 4,
   "metadata": {},
   "outputs": [],
   "source": [
    "# Define Model\n",
    "# Note: We can set some of these at variables to reduce capacity \n",
    "model = Sequential() # Sets up model structure to pass data forward \n",
    "model.add(Conv2D(32, # Activation layers \n",
    "                 (3, 3), # Conv dim\n",
    "                 padding='same', # Use padding to maintain same dims\n",
    "                 input_shape=X_train.shape[1:], activation='relu'))\n",
    "model.add(MaxPooling2D(pool_size=(2, 2))) # 16x16 dim per activation\n",
    "model.add(Conv2D(32, # Activation layers \n",
    "                 (3, 3), # Conv dim\n",
    "                 padding='same', # Use padding to maintain same dims\n",
    "                 input_shape=X_train.shape[1:], activation='relu'))\n",
    "model.add(MaxPooling2D(pool_size=(2, 2))) # 16x16 dim per activation\n",
    "model.add(Dropout(config.dropout)) # Add a dash of regularization (too taste)\n",
    "\n",
    "# NOTE: Would be fun to try a 16x16xActivation conv to a 1x1x10 tensor\n",
    "model.add(Flatten()) # Because dense layers like 1D vectors \n",
    "model.add(Dense(config.dense_layer_nodes, activation='relu'))\n",
    "model.add(Dropout(config.dropout)) # A pinch more regularization \n",
    "model.add(Dense(num_classes, activation='softmax')) # Plate and serve\n",
    "\n",
    "# NOTE: Could also try Adam at some point\n",
    "opt = keras.optimizers.SGD(lr=config.learn_rate) # No momentum \n",
    "\n",
    "model.compile(loss='categorical_crossentropy', # Because one hot encoding\n",
    "              optimizer=opt, # Per previous decision to not use momentum\n",
    "              metrics=['accuracy']) # Easier to look at than cross entropy\n",
    "\n",
    "# Data augmentation to improve performance on the dataset \n",
    "# datagen = ImageDataGenerator(width_shift_range=0.1)\n",
    "# datagen.fit(X_train)"
   ]
  },
  {
   "cell_type": "code",
   "execution_count": 8,
   "metadata": {},
   "outputs": [
    {
     "data": {
      "text/plain": [
       "'\\nmodel.fit_generator(datagen.flow( # Slightly clever, operate over datagen not X_train\\n                            X_train, y_train,\\n                            batch_size=config.batch_size),\\n                        # Define an epoch as a single full pass over the data\\n                        steps_per_epoch=X_train.shape[0] // config.batch_size,\\n                        # Will use a fixed set of epochs rather than a stopping criteria \\n                        epochs=config.epochs,\\n                        validation_data=(X_test, y_test),\\n                        # Allow multiple CPUs to help with data augmentation to avoid GPU starvation\\n                        workers=4,\\n                        # Make sure we can see the pastries while they bake\\n                        callbacks=[WandbCallback(data_type=\"image\", labels=class_names)]\\n)\\n'"
      ]
     },
     "execution_count": 8,
     "metadata": {},
     "output_type": "execute_result"
    }
   ],
   "source": [
    "# Fit the model on the batches generated by datagen.flow\n",
    "# For batch size make sure it's big enough to leverage GPU parallelism \n",
    "#    As a basic rule you need to reduce learning rate as you reduce batch size\n",
    "# NOTE: Will be interesting to optimize for training time a bit by tweaking batch size\n",
    "\"\"\"\n",
    "model.fit_generator(datagen.flow( # Slightly clever, operate over datagen not X_train\n",
    "                            X_train, y_train,\n",
    "                            batch_size=config.batch_size),\n",
    "                        # Define an epoch as a single full pass over the data\n",
    "                        steps_per_epoch=X_train.shape[0] // config.batch_size,\n",
    "                        # Will use a fixed set of epochs rather than a stopping criteria \n",
    "                        epochs=config.epochs,\n",
    "                        validation_data=(X_test, y_test),\n",
    "                        # Allow multiple CPUs to help with data augmentation to avoid GPU starvation\n",
    "                        workers=4,\n",
    "                        # Make sure we can see the pastries while they bake\n",
    "                        callbacks=[WandbCallback(data_type=\"image\", labels=class_names)]\n",
    ")\n",
    "\"\"\""
   ]
  },
  {
   "cell_type": "code",
   "execution_count": null,
   "metadata": {},
   "outputs": [],
   "source": []
  },
  {
   "cell_type": "code",
   "execution_count": null,
   "metadata": {},
   "outputs": [
    {
     "name": "stdout",
     "output_type": "stream",
     "text": [
      "Train on 50000 samples, validate on 10000 samples\n",
      "Epoch 1/100\n",
      "50000/50000 [==============================] - 5s 106us/step - loss: 2.2887 - acc: 0.1392 - val_loss: 2.2333 - val_acc: 0.2055\n",
      "Epoch 2/100\n",
      "50000/50000 [==============================] - 3s 61us/step - loss: 2.2297 - acc: 0.1734 - val_loss: 2.1807 - val_acc: 0.1852\n",
      "Epoch 3/100\n",
      "50000/50000 [==============================] - 3s 61us/step - loss: 2.1268 - acc: 0.2285 - val_loss: 1.9617 - val_acc: 0.3277\n",
      "Epoch 4/100\n",
      "50000/50000 [==============================] - 3s 61us/step - loss: 1.9900 - acc: 0.2958 - val_loss: 1.8116 - val_acc: 0.3418\n",
      "Epoch 5/100\n",
      "50000/50000 [==============================] - 3s 62us/step - loss: 1.8066 - acc: 0.3542 - val_loss: 1.6207 - val_acc: 0.4451\n",
      "Epoch 6/100\n",
      "50000/50000 [==============================] - 3s 61us/step - loss: 1.7178 - acc: 0.3844 - val_loss: 1.6727 - val_acc: 0.3962\n",
      "Epoch 7/100\n",
      "50000/50000 [==============================] - 3s 61us/step - loss: 1.6451 - acc: 0.4147 - val_loss: 1.4522 - val_acc: 0.4768\n",
      "Epoch 8/100\n",
      "50000/50000 [==============================] - 3s 61us/step - loss: 1.5569 - acc: 0.4445 - val_loss: 1.4270 - val_acc: 0.4924\n",
      "Epoch 9/100\n",
      "50000/50000 [==============================] - 3s 61us/step - loss: 1.5374 - acc: 0.4518 - val_loss: 1.3894 - val_acc: 0.5107\n",
      "Epoch 10/100\n",
      "50000/50000 [==============================] - 3s 61us/step - loss: 1.4734 - acc: 0.4752 - val_loss: 1.4752 - val_acc: 0.4826\n",
      "Epoch 11/100\n",
      "50000/50000 [==============================] - 3s 60us/step - loss: 1.4256 - acc: 0.4915 - val_loss: 1.2996 - val_acc: 0.5303\n",
      "Epoch 12/100\n",
      "50000/50000 [==============================] - 3s 61us/step - loss: 1.3933 - acc: 0.5054 - val_loss: 1.3903 - val_acc: 0.5201\n",
      "Epoch 13/100\n",
      "50000/50000 [==============================] - 3s 62us/step - loss: 1.3634 - acc: 0.5151 - val_loss: 1.3194 - val_acc: 0.5446\n",
      "Epoch 14/100\n",
      "50000/50000 [==============================] - 3s 65us/step - loss: 1.2856 - acc: 0.5423 - val_loss: 1.2056 - val_acc: 0.5734\n",
      "Epoch 15/100\n",
      "50000/50000 [==============================] - 3s 65us/step - loss: 1.2611 - acc: 0.5516 - val_loss: 1.1933 - val_acc: 0.5773\n",
      "Epoch 16/100\n",
      "50000/50000 [==============================] - 3s 64us/step - loss: 1.2518 - acc: 0.5524 - val_loss: 1.1870 - val_acc: 0.5795\n",
      "Epoch 17/100\n",
      "50000/50000 [==============================] - 3s 65us/step - loss: 1.2439 - acc: 0.5599 - val_loss: 1.1805 - val_acc: 0.5821\n",
      "Epoch 18/100\n",
      "50000/50000 [==============================] - 3s 65us/step - loss: 1.2414 - acc: 0.5571 - val_loss: 1.1743 - val_acc: 0.5843\n",
      "Epoch 19/100\n",
      "50000/50000 [==============================] - 3s 65us/step - loss: 1.2363 - acc: 0.5614 - val_loss: 1.1698 - val_acc: 0.5889\n",
      "Epoch 20/100\n",
      "50000/50000 [==============================] - 3s 65us/step - loss: 1.2272 - acc: 0.5623 - val_loss: 1.1621 - val_acc: 0.5887\n",
      "Epoch 21/100\n",
      "50000/50000 [==============================] - 3s 66us/step - loss: 1.2253 - acc: 0.5625 - val_loss: 1.1587 - val_acc: 0.5888\n",
      "Epoch 22/100\n",
      "50000/50000 [==============================] - 3s 65us/step - loss: 1.2213 - acc: 0.5635 - val_loss: 1.1541 - val_acc: 0.5919\n",
      "Epoch 23/100\n",
      "50000/50000 [==============================] - 3s 65us/step - loss: 1.2178 - acc: 0.5656 - val_loss: 1.1496 - val_acc: 0.5930\n",
      "Epoch 24/100\n",
      "50000/50000 [==============================] - 3s 65us/step - loss: 1.2108 - acc: 0.5685 - val_loss: 1.1461 - val_acc: 0.5926\n",
      "Epoch 25/100\n",
      "50000/50000 [==============================] - 3s 65us/step - loss: 1.2061 - acc: 0.5704 - val_loss: 1.1410 - val_acc: 0.5979\n",
      "Epoch 26/100\n",
      "50000/50000 [==============================] - 3s 65us/step - loss: 1.2060 - acc: 0.5725 - val_loss: 1.1364 - val_acc: 0.5979\n",
      "Epoch 27/100\n",
      "50000/50000 [==============================] - 3s 65us/step - loss: 1.2000 - acc: 0.5728 - val_loss: 1.1348 - val_acc: 0.5986\n",
      "Epoch 28/100\n",
      "50000/50000 [==============================] - 3s 64us/step - loss: 1.1928 - acc: 0.5763 - val_loss: 1.1276 - val_acc: 0.6024\n",
      "Epoch 29/100\n",
      "50000/50000 [==============================] - 3s 64us/step - loss: 1.1895 - acc: 0.5759 - val_loss: 1.1248 - val_acc: 0.6053\n",
      "Epoch 30/100\n",
      "50000/50000 [==============================] - 3s 65us/step - loss: 1.1871 - acc: 0.5752 - val_loss: 1.1209 - val_acc: 0.6043\n",
      "Epoch 31/100\n",
      "50000/50000 [==============================] - 3s 65us/step - loss: 1.1827 - acc: 0.5803 - val_loss: 1.1185 - val_acc: 0.6067\n",
      "Epoch 32/100\n",
      "50000/50000 [==============================] - 3s 65us/step - loss: 1.1786 - acc: 0.5814 - val_loss: 1.1130 - val_acc: 0.6062\n",
      "Epoch 33/100\n",
      "50000/50000 [==============================] - 3s 65us/step - loss: 1.1790 - acc: 0.5817 - val_loss: 1.1098 - val_acc: 0.6062\n",
      "Epoch 34/100\n",
      "50000/50000 [==============================] - 3s 65us/step - loss: 1.1717 - acc: 0.5831 - val_loss: 1.1077 - val_acc: 0.6068\n",
      "Epoch 35/100\n",
      "50000/50000 [==============================] - 3s 65us/step - loss: 1.1660 - acc: 0.5840 - val_loss: 1.1028 - val_acc: 0.6090\n",
      "Epoch 36/100\n",
      "50000/50000 [==============================] - 3s 65us/step - loss: 1.1656 - acc: 0.5865 - val_loss: 1.1007 - val_acc: 0.6117\n",
      "Epoch 37/100\n",
      "50000/50000 [==============================] - 3s 65us/step - loss: 1.1650 - acc: 0.5850 - val_loss: 1.0994 - val_acc: 0.6128\n",
      "Epoch 38/100\n",
      "50000/50000 [==============================] - 3s 65us/step - loss: 1.1614 - acc: 0.5860 - val_loss: 1.0935 - val_acc: 0.6126\n",
      "Epoch 39/100\n",
      "50000/50000 [==============================] - 3s 65us/step - loss: 1.1549 - acc: 0.5872 - val_loss: 1.0913 - val_acc: 0.6120\n",
      "Epoch 40/100\n",
      "50000/50000 [==============================] - 3s 65us/step - loss: 1.1518 - acc: 0.5912 - val_loss: 1.0865 - val_acc: 0.6201\n",
      "Epoch 41/100\n",
      "50000/50000 [==============================] - 3s 65us/step - loss: 1.1471 - acc: 0.5939 - val_loss: 1.0831 - val_acc: 0.6184\n",
      "Epoch 42/100\n",
      "50000/50000 [==============================] - 3s 65us/step - loss: 1.1443 - acc: 0.5918 - val_loss: 1.0804 - val_acc: 0.6217\n",
      "Epoch 43/100\n",
      "50000/50000 [==============================] - 3s 64us/step - loss: 1.1417 - acc: 0.5935 - val_loss: 1.0789 - val_acc: 0.6179\n",
      "Epoch 44/100\n",
      "50000/50000 [==============================] - 3s 65us/step - loss: 1.1369 - acc: 0.5951 - val_loss: 1.0767 - val_acc: 0.6199\n",
      "Epoch 45/100\n",
      "50000/50000 [==============================] - 3s 65us/step - loss: 1.1336 - acc: 0.5987 - val_loss: 1.0725 - val_acc: 0.6225\n",
      "Epoch 46/100\n",
      "50000/50000 [==============================] - 3s 65us/step - loss: 1.1307 - acc: 0.5997 - val_loss: 1.0720 - val_acc: 0.6230\n",
      "Epoch 47/100\n",
      "50000/50000 [==============================] - 3s 65us/step - loss: 1.1338 - acc: 0.5983 - val_loss: 1.0713 - val_acc: 0.6243\n",
      "Epoch 48/100\n",
      "50000/50000 [==============================] - 3s 65us/step - loss: 1.1284 - acc: 0.6002 - val_loss: 1.0713 - val_acc: 0.6242\n",
      "Epoch 49/100\n",
      "50000/50000 [==============================] - 3s 65us/step - loss: 1.1287 - acc: 0.6011 - val_loss: 1.0713 - val_acc: 0.6242\n",
      "Epoch 50/100\n",
      "50000/50000 [==============================] - 3s 64us/step - loss: 1.1284 - acc: 0.6005 - val_loss: 1.0713 - val_acc: 0.6243\n",
      "Epoch 51/100\n",
      "50000/50000 [==============================] - 3s 65us/step - loss: 1.1301 - acc: 0.5995 - val_loss: 1.0713 - val_acc: 0.6242\n",
      "Epoch 52/100\n",
      "50000/50000 [==============================] - 3s 65us/step - loss: 1.1297 - acc: 0.5976 - val_loss: 1.0713 - val_acc: 0.6242\n",
      "Epoch 53/100\n",
      "50000/50000 [==============================] - 3s 65us/step - loss: 1.1308 - acc: 0.5987 - val_loss: 1.0713 - val_acc: 0.6243\n",
      "Epoch 54/100\n",
      "50000/50000 [==============================] - 3s 66us/step - loss: 1.1331 - acc: 0.6000 - val_loss: 1.0713 - val_acc: 0.6243\n",
      "Epoch 55/100\n",
      "50000/50000 [==============================] - 3s 65us/step - loss: 1.1292 - acc: 0.5995 - val_loss: 1.0713 - val_acc: 0.6243\n",
      "Epoch 56/100\n",
      "50000/50000 [==============================] - 3s 65us/step - loss: 1.1295 - acc: 0.5996 - val_loss: 1.0713 - val_acc: 0.6243\n",
      "Epoch 57/100\n",
      "20480/50000 [===========>..................] - ETA: 1s - loss: 1.1337 - acc: 0.5961"
     ]
    }
   ],
   "source": [
    "# Model \n",
    "# For batch size make sure it's big enough to leverage GPU parallelism \n",
    "#    As a basic rule you need to reduce learning rate as you reduce batch size\n",
    "# NOTE: Will be interesting to optimize for training time a bit by tweaking batch size\n",
    "model.fit(\n",
    "        X_train, \n",
    "        y_train,\n",
    "        batch_size=config.batch_size,\n",
    "        # Will use a fixed set of epochs rather than a stopping criteria \n",
    "        epochs=config.epochs,\n",
    "        validation_data=(X_test, y_test),\n",
    "        # Make sure we can see the pastries while they bake\n",
    "        callbacks=[\n",
    "            WandbCallback(data_type=\"image\", labels=class_names),\n",
    "            ReduceLROnPlateau(min_delta=0.005, patience=2)\n",
    "        ]\n",
    ")"
   ]
  },
  {
   "cell_type": "code",
   "execution_count": 8,
   "metadata": {},
   "outputs": [],
   "source": [
    "y_train_softmax_output = model.predict(X_train)"
   ]
  },
  {
   "cell_type": "code",
   "execution_count": 9,
   "metadata": {},
   "outputs": [
    {
     "data": {
      "text/plain": [
       "array([0.83920133, 0.9983047 , 0.9001873 , 0.7953532 , 0.7866148 ,\n",
       "       0.81717366, 0.5064157 , 0.99989855, 0.93209076, 0.6710187 ,\n",
       "       0.92301464, 0.99077225, 0.826371  , 0.38134196, 0.96502185,\n",
       "       0.84213567, 0.966615  , 0.5012443 , 0.7614266 , 0.94883066,\n",
       "       0.857787  , 0.49294803, 0.9983803 , 0.98797685, 0.9153363 ,\n",
       "       0.8064803 , 0.56705517, 0.52837306, 0.81827563, 0.8695945 ,\n",
       "       0.9995993 , 0.7369655 , 0.98689204, 0.7471093 , 0.9318024 ,\n",
       "       0.47524017, 0.8573495 , 0.75211126, 0.62733823, 0.2861432 ,\n",
       "       0.5234698 , 0.96184886, 0.5099344 , 0.9999573 , 0.8340019 ,\n",
       "       0.9810667 , 0.9966137 , 0.7138479 , 0.95311767, 0.49189553,\n",
       "       0.5839289 , 0.7389444 , 0.7221167 , 0.70702916, 0.9918948 ,\n",
       "       0.8426747 , 0.51609176, 0.9070872 , 0.825788  , 0.60552996,\n",
       "       0.9991141 , 0.98223627, 0.99955803, 0.99154305, 0.9935783 ,\n",
       "       0.9865253 , 0.9088949 , 0.89286673, 0.9890694 , 0.8444116 ,\n",
       "       0.36163768, 0.5305731 , 0.8533223 , 0.80820847, 0.21710546,\n",
       "       0.9703561 , 0.9985129 , 0.9849172 , 0.38226235, 0.88090056,\n",
       "       0.28204602, 0.6451032 , 0.9229789 , 0.4412783 , 0.7868588 ,\n",
       "       0.7270365 , 0.6685431 , 0.9993507 , 0.81601816, 0.7500285 ,\n",
       "       0.37254992, 0.56618434, 0.98855597, 0.99179417, 0.66591287,\n",
       "       0.68976825, 0.9989981 , 0.7894478 , 0.7156081 , 0.9987614 ],\n",
       "      dtype=float32)"
      ]
     },
     "execution_count": 9,
     "metadata": {},
     "output_type": "execute_result"
    }
   ],
   "source": [
    "np.max(y_train_softmax_output[0:100],axis=1)"
   ]
  },
  {
   "cell_type": "code",
   "execution_count": 10,
   "metadata": {},
   "outputs": [],
   "source": [
    "np.save(\"y_train_softmax_output\", y_train_softmax_output)"
   ]
  },
  {
   "cell_type": "code",
   "execution_count": null,
   "metadata": {},
   "outputs": [],
   "source": []
  },
  {
   "cell_type": "code",
   "execution_count": 11,
   "metadata": {},
   "outputs": [
    {
     "data": {
      "image/png": "[encoded data removed]",
      "text/plain": [
       "<Figure size 432x288 with 1 Axes>"
      ]
     },
     "metadata": {
      "needs_background": "light"
     },
     "output_type": "display_data"
    }
   ],
   "source": [
    "data = X_train[0]\n",
    "from matplotlib import pyplot as plt\n",
    "plt.imshow(data, interpolation='nearest')\n",
    "plt.show()"
   ]
  },
  {
   "cell_type": "code",
   "execution_count": 12,
   "metadata": {},
   "outputs": [
    {
     "data": {
      "text/plain": [
       "(array([  125.,  1053.,  2340.,  3482.,  4192.,  4050.,  4265.,  4882.,\n",
       "         6540., 19071.]),\n",
       " array([0.1450341 , 0.2305307 , 0.31602728, 0.4015239 , 0.48702046,\n",
       "        0.57251704, 0.65801364, 0.74351025, 0.8290068 , 0.9145034 ,\n",
       "        1.        ], dtype=float32),\n",
       " <a list of 10 Patch objects>)"
      ]
     },
     "execution_count": 12,
     "metadata": {},
     "output_type": "execute_result"
    },
    {
     "data": {
      "image/png": "[encoded data removed]",
      "text/plain": [
       "<Figure size 432x288 with 1 Axes>"
      ]
     },
     "metadata": {
      "needs_background": "light"
     },
     "output_type": "display_data"
    }
   ],
   "source": [
    "maxes = np.max(y_train_softmax_output,axis=1)\n",
    "plt.hist(maxes)"
   ]
  },
  {
   "cell_type": "code",
   "execution_count": null,
   "metadata": {},
   "outputs": [],
   "source": []
  }
 ],
 "metadata": {
  "kernelspec": {
   "display_name": "Python 3",
   "language": "python",
   "name": "python3"
  },
  "language_info": {
   "codemirror_mode": {
    "name": "ipython",
    "version": 3
   },
   "file_extension": ".py",
   "mimetype": "text/x-python",
   "name": "python",
   "nbconvert_exporter": "python",
   "pygments_lexer": "ipython3",
   "version": "3.6.8"
  }
 },
 "nbformat": 4,
 "nbformat_minor": 2
}
