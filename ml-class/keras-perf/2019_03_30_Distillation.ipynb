{
 "cells": [
  {
   "cell_type": "code",
   "execution_count": 1,
   "metadata": {},
   "outputs": [
    {
     "name": "stderr",
     "output_type": "stream",
     "text": [
      "Using TensorFlow backend.\n"
     ]
    }
   ],
   "source": [
    "import keras\n",
    "from keras.datasets import cifar10\n",
    "from keras.preprocessing.image import ImageDataGenerator\n",
    "from keras.models import Sequential\n",
    "from keras.layers import Dense, Dropout, Activation, Flatten\n",
    "from keras.layers import Conv2D, MaxPooling2D\n",
    "import numpy as np\n",
    "\n",
    "import os\n",
    "import wandb\n",
    "from wandb.keras import WandbCallback\n",
    "from PIL import Image\n",
    "from matplotlib import pyplot as plt"
   ]
  },
  {
   "cell_type": "code",
   "execution_count": 2,
   "metadata": {},
   "outputs": [
    {
     "name": "stdout",
     "output_type": "stream",
     "text": [
      "W&B Run: run pending creation, url not known\n",
      "Call `%%wandb` in the cell containing your training loop to display live results.\n"
     ]
    }
   ],
   "source": [
    "run = wandb.init(project=\"Distillation\",tensorboard=True)\n",
    "config = run.config\n",
    "config.dropout = 0.25\n",
    "config.dense_layer_nodes = 100\n",
    "config.learn_rate = 0.32  #0.01 \n",
    "config.batch_size = 1024  #32\n",
    "config.epochs = 50"
   ]
  },
  {
   "cell_type": "code",
   "execution_count": 3,
   "metadata": {},
   "outputs": [],
   "source": [
    "class_names = ['airplane','automobile','bird','cat','deer',\n",
    "               'dog','frog','horse','ship','truck']\n",
    "num_classes = len(class_names)\n",
    "\n",
    "(X_train, y_train_original_label), (X_test, y_test) = cifar10.load_data()\n",
    "\n",
    "# Convert class vectors to binary class matrices.\n",
    "y_train_original_label = keras.utils.to_categorical(y_train_original_label, num_classes)\n",
    "y_test = keras.utils.to_categorical(y_test, num_classes)\n",
    "\n",
    "# Normalize values into [0 to 1] because all default assume zero to one\n",
    "# We won't bother to fully sphere the data, removing median and divide by variance\n",
    "X_train = X_train.astype('float32') / 255.\n",
    "X_test = X_test.astype('float32') / 255."
   ]
  },
  {
   "cell_type": "code",
   "execution_count": 4,
   "metadata": {},
   "outputs": [],
   "source": [
    "y_train_softmax_output = np.load(\"y_train_softmax_output.npy\")"
   ]
  },
  {
   "cell_type": "code",
   "execution_count": 5,
   "metadata": {},
   "outputs": [],
   "source": [
    "# Define Emulation Model\n",
    "# Note: We can set some of these at variables to reduce capacity \n",
    "model = Sequential() # Sets up model structure to pass data forward \n",
    "model.add(Conv2D(32, # Activation layers \n",
    "                 (3, 3), # Conv dim\n",
    "                 padding='same', # Use padding to maintain same dims\n",
    "                 input_shape=X_train.shape[1:], activation='relu'))\n",
    "model.add(MaxPooling2D(pool_size=(2, 2))) # 16x16 dim per activation\n",
    "model.add(Dropout(config.dropout)) # Add a dash of regularization (too taste)\n",
    "\n",
    "# NOTE: Would be fun to try a 16x16xActivation conv to a 1x1x10 tensor\n",
    "model.add(Flatten()) # Because dense layers like 1D vectors \n",
    "model.add(Dense(config.dense_layer_nodes, activation='relu'))\n",
    "model.add(Dropout(config.dropout)) # A pinch more regularization \n",
    "model.add(Dense(num_classes, activation='softmax')) # Plate and serve\n",
    "\n",
    "# NOTE: Could also try Adam at some point\n",
    "opt = keras.optimizers.SGD(lr=config.learn_rate) # No momentum \n",
    "\n",
    "model.compile(loss='categorical_crossentropy', # Because one hot encoding\n",
    "              optimizer=opt, # Per previous decision to not use momentum\n",
    "              metrics=['accuracy']) # Easier to look at than cross entropy"
   ]
  },
  {
   "cell_type": "code",
   "execution_count": 6,
   "metadata": {},
   "outputs": [
    {
     "data": {
      "image/png": "[encoded data removed]",
      "text/plain": [
       "<Figure size 432x288 with 1 Axes>"
      ]
     },
     "metadata": {
      "needs_background": "light"
     },
     "output_type": "display_data"
    }
   ],
   "source": [
    "data = X_train[0]\n",
    "from matplotlib import pyplot as plt\n",
    "plt.imshow(data, interpolation='nearest')\n",
    "plt.show()"
   ]
  },
  {
   "cell_type": "code",
   "execution_count": 7,
   "metadata": {},
   "outputs": [
    {
     "name": "stdout",
     "output_type": "stream",
     "text": [
      "['airplane', 'automobile', 'bird', 'cat', 'deer', 'dog', 'frog', 'horse', 'ship', 'truck']\n"
     ]
    },
    {
     "data": {
      "text/plain": [
       "array([0.01232435, 0.0039792 , 0.1139431 , 0.17137621, 0.21767129,\n",
       "       0.08433414, 0.33153898, 0.05812449, 0.00493336, 0.00177489],\n",
       "      dtype=float32)"
      ]
     },
     "execution_count": 7,
     "metadata": {},
     "output_type": "execute_result"
    }
   ],
   "source": [
    "print(class_names)\n",
    "y_train_softmax_output[0]"
   ]
  },
  {
   "cell_type": "code",
   "execution_count": 8,
   "metadata": {},
   "outputs": [
    {
     "name": "stderr",
     "output_type": "stream",
     "text": [
      "wandb: Wandb version 0.7.2 is available!  To upgrade, please run:\n",
      "wandb:  $ pip install wandb --upgrade\n"
     ]
    },
    {
     "name": "stdout",
     "output_type": "stream",
     "text": [
      "Train on 50000 samples, validate on 10000 samples\n",
      "Epoch 1/50\n",
      "50000/50000 [==============================] - 5s 105us/step - loss: 2.2994 - acc: 0.1602 - val_loss: 2.2505 - val_acc: 0.2198\n",
      "Epoch 2/50\n",
      "50000/50000 [==============================] - 3s 56us/step - loss: 2.1820 - acc: 0.2368 - val_loss: 2.1510 - val_acc: 0.2207\n",
      "Epoch 3/50\n",
      "50000/50000 [==============================] - 3s 55us/step - loss: 2.1180 - acc: 0.2749 - val_loss: 2.1062 - val_acc: 0.2288\n",
      "Epoch 4/50\n",
      "50000/50000 [==============================] - 3s 55us/step - loss: 2.0795 - acc: 0.2813 - val_loss: 1.9790 - val_acc: 0.2907\n",
      "Epoch 5/50\n",
      "50000/50000 [==============================] - 3s 55us/step - loss: 1.9679 - acc: 0.3466 - val_loss: 1.9028 - val_acc: 0.3459\n",
      "Epoch 6/50\n",
      "50000/50000 [==============================] - 3s 56us/step - loss: 1.8985 - acc: 0.3846 - val_loss: 1.8285 - val_acc: 0.3403\n",
      "Epoch 7/50\n",
      "50000/50000 [==============================] - 3s 57us/step - loss: 1.8493 - acc: 0.4041 - val_loss: 1.8457 - val_acc: 0.3657\n",
      "Epoch 8/50\n",
      "50000/50000 [==============================] - 3s 57us/step - loss: 1.7969 - acc: 0.4382 - val_loss: 1.6363 - val_acc: 0.4135\n",
      "Epoch 9/50\n",
      "50000/50000 [==============================] - 3s 55us/step - loss: 1.7052 - acc: 0.4776 - val_loss: 1.6071 - val_acc: 0.4176\n",
      "Epoch 10/50\n",
      "50000/50000 [==============================] - 3s 55us/step - loss: 1.6607 - acc: 0.4980 - val_loss: 1.4989 - val_acc: 0.4647\n",
      "Epoch 11/50\n",
      "50000/50000 [==============================] - 3s 55us/step - loss: 1.6283 - acc: 0.5125 - val_loss: 1.5409 - val_acc: 0.4592\n",
      "Epoch 12/50\n",
      "50000/50000 [==============================] - 3s 55us/step - loss: 1.5966 - acc: 0.5303 - val_loss: 1.6212 - val_acc: 0.4144\n",
      "Epoch 13/50\n",
      "50000/50000 [==============================] - 3s 55us/step - loss: 1.5758 - acc: 0.5417 - val_loss: 1.4498 - val_acc: 0.4827\n",
      "Epoch 14/50\n",
      "50000/50000 [==============================] - 3s 56us/step - loss: 1.5438 - acc: 0.5602 - val_loss: 1.4424 - val_acc: 0.4704\n",
      "Epoch 15/50\n",
      "50000/50000 [==============================] - 3s 56us/step - loss: 1.5287 - acc: 0.5690 - val_loss: 1.4323 - val_acc: 0.4966\n",
      "Epoch 16/50\n",
      "50000/50000 [==============================] - 3s 56us/step - loss: 1.5146 - acc: 0.5753 - val_loss: 1.3934 - val_acc: 0.5120\n",
      "Epoch 17/50\n",
      "50000/50000 [==============================] - 3s 56us/step - loss: 1.4944 - acc: 0.5887 - val_loss: 1.3802 - val_acc: 0.5146\n",
      "Epoch 18/50\n",
      "50000/50000 [==============================] - 3s 56us/step - loss: 1.4874 - acc: 0.5924 - val_loss: 1.5143 - val_acc: 0.4632\n",
      "Epoch 19/50\n",
      "50000/50000 [==============================] - 3s 55us/step - loss: 1.4812 - acc: 0.5930 - val_loss: 1.3691 - val_acc: 0.5009\n",
      "Epoch 20/50\n",
      "50000/50000 [==============================] - 3s 55us/step - loss: 1.4718 - acc: 0.5999 - val_loss: 1.3904 - val_acc: 0.5042\n",
      "Epoch 21/50\n",
      "50000/50000 [==============================] - 3s 55us/step - loss: 1.4614 - acc: 0.6042 - val_loss: 1.3740 - val_acc: 0.5021\n",
      "Epoch 22/50\n",
      "50000/50000 [==============================] - 3s 56us/step - loss: 1.4530 - acc: 0.6128 - val_loss: 1.3871 - val_acc: 0.5018\n",
      "Epoch 23/50\n",
      "50000/50000 [==============================] - 3s 56us/step - loss: 1.4436 - acc: 0.6200 - val_loss: 1.4205 - val_acc: 0.4913\n",
      "Epoch 24/50\n",
      "50000/50000 [==============================] - 3s 56us/step - loss: 1.4445 - acc: 0.6214 - val_loss: 1.4147 - val_acc: 0.4896\n",
      "Epoch 25/50\n",
      "50000/50000 [==============================] - 3s 56us/step - loss: 1.4373 - acc: 0.6225 - val_loss: 1.3170 - val_acc: 0.5363\n",
      "Epoch 26/50\n",
      "50000/50000 [==============================] - 3s 56us/step - loss: 1.4305 - acc: 0.6277 - val_loss: 1.3377 - val_acc: 0.5241\n",
      "Epoch 27/50\n",
      "50000/50000 [==============================] - 3s 56us/step - loss: 1.4199 - acc: 0.6360 - val_loss: 1.3155 - val_acc: 0.5330\n",
      "Epoch 28/50\n",
      "50000/50000 [==============================] - 3s 57us/step - loss: 1.4190 - acc: 0.6349 - val_loss: 1.3189 - val_acc: 0.5263\n",
      "Epoch 29/50\n",
      "50000/50000 [==============================] - 3s 55us/step - loss: 1.4179 - acc: 0.6392 - val_loss: 1.3757 - val_acc: 0.5063\n",
      "Epoch 30/50\n",
      "50000/50000 [==============================] - 3s 55us/step - loss: 1.4087 - acc: 0.6392 - val_loss: 1.3999 - val_acc: 0.4936\n",
      "Epoch 31/50\n",
      "50000/50000 [==============================] - 3s 55us/step - loss: 1.4034 - acc: 0.6477 - val_loss: 1.3294 - val_acc: 0.5282\n",
      "Epoch 32/50\n",
      "50000/50000 [==============================] - 3s 55us/step - loss: 1.4060 - acc: 0.6410 - val_loss: 1.3279 - val_acc: 0.5346\n",
      "Epoch 33/50\n",
      "50000/50000 [==============================] - 3s 57us/step - loss: 1.3998 - acc: 0.6496 - val_loss: 1.3802 - val_acc: 0.5032\n",
      "Epoch 34/50\n",
      "50000/50000 [==============================] - 3s 55us/step - loss: 1.3985 - acc: 0.6519 - val_loss: 1.3417 - val_acc: 0.5199\n",
      "Epoch 35/50\n",
      "50000/50000 [==============================] - 3s 56us/step - loss: 1.3954 - acc: 0.6503 - val_loss: 1.3085 - val_acc: 0.5433\n",
      "Epoch 36/50\n",
      "50000/50000 [==============================] - 3s 56us/step - loss: 1.3848 - acc: 0.6555 - val_loss: 1.3440 - val_acc: 0.5240\n",
      "Epoch 37/50\n",
      "50000/50000 [==============================] - 3s 56us/step - loss: 1.3906 - acc: 0.6534 - val_loss: 1.2893 - val_acc: 0.5436\n",
      "Epoch 38/50\n",
      "50000/50000 [==============================] - 3s 55us/step - loss: 1.3819 - acc: 0.6577 - val_loss: 1.4104 - val_acc: 0.4952\n",
      "Epoch 39/50\n",
      "50000/50000 [==============================] - 3s 56us/step - loss: 1.3820 - acc: 0.6595 - val_loss: 1.2850 - val_acc: 0.5437\n",
      "Epoch 40/50\n",
      "50000/50000 [==============================] - 3s 56us/step - loss: 1.3767 - acc: 0.6626 - val_loss: 1.2724 - val_acc: 0.5544\n",
      "Epoch 41/50\n",
      "50000/50000 [==============================] - 3s 56us/step - loss: 1.3733 - acc: 0.6669 - val_loss: 1.3331 - val_acc: 0.5254\n",
      "Epoch 42/50\n",
      "50000/50000 [==============================] - 3s 56us/step - loss: 1.3752 - acc: 0.6655 - val_loss: 1.2798 - val_acc: 0.5472\n",
      "Epoch 43/50\n",
      "50000/50000 [==============================] - 3s 56us/step - loss: 1.3690 - acc: 0.6673 - val_loss: 1.3070 - val_acc: 0.5355\n",
      "Epoch 44/50\n",
      "50000/50000 [==============================] - 3s 56us/step - loss: 1.3669 - acc: 0.6701 - val_loss: 1.2689 - val_acc: 0.5599\n",
      "Epoch 45/50\n",
      "50000/50000 [==============================] - 3s 57us/step - loss: 1.3679 - acc: 0.6711 - val_loss: 1.2934 - val_acc: 0.5408\n",
      "Epoch 46/50\n",
      "50000/50000 [==============================] - 3s 56us/step - loss: 1.3602 - acc: 0.6739 - val_loss: 1.2593 - val_acc: 0.5593\n",
      "Epoch 47/50\n",
      "50000/50000 [==============================] - 3s 56us/step - loss: 1.3580 - acc: 0.6773 - val_loss: 1.2720 - val_acc: 0.5535\n",
      "Epoch 48/50\n",
      "50000/50000 [==============================] - 3s 56us/step - loss: 1.3542 - acc: 0.6808 - val_loss: 1.3150 - val_acc: 0.5360\n",
      "Epoch 49/50\n",
      "50000/50000 [==============================] - 3s 56us/step - loss: 1.3561 - acc: 0.6771 - val_loss: 1.2791 - val_acc: 0.5460\n",
      "Epoch 50/50\n",
      "50000/50000 [==============================] - 3s 57us/step - loss: 1.3504 - acc: 0.6792 - val_loss: 1.3002 - val_acc: 0.5357\n"
     ]
    },
    {
     "data": {
      "text/plain": [
       "<keras.callbacks.History at 0x7fc5346f26a0>"
      ]
     },
     "execution_count": 8,
     "metadata": {},
     "output_type": "execute_result"
    }
   ],
   "source": [
    "# Model \n",
    "# For batch size make sure it's big enough to leverage GPU parallelism \n",
    "#    As a basic rule you need to reduce learning rate as you reduce batch size\n",
    "# NOTE: Will be interesting to optimize for training time a bit by tweaking batch size\n",
    "model.fit(\n",
    "        X_train, \n",
    "        y_train_softmax_output,\n",
    "        batch_size=config.batch_size,\n",
    "        # Will use a fixed set of epochs rather than a stopping criteria \n",
    "        epochs=config.epochs,\n",
    "        validation_data=(X_test, y_test),\n",
    "        # Make sure we can see the pastries while they bake\n",
    "        callbacks=[WandbCallback(data_type=\"image\", labels=class_names)]\n",
    ")"
   ]
  }
 ],
 "metadata": {
  "kernelspec": {
   "display_name": "Python 3",
   "language": "python",
   "name": "python3"
  },
  "language_info": {
   "codemirror_mode": {
    "name": "ipython",
    "version": 3
   },
   "file_extension": ".py",
   "mimetype": "text/x-python",
   "name": "python",
   "nbconvert_exporter": "python",
   "pygments_lexer": "ipython3",
   "version": "3.6.8"
  }
 },
 "nbformat": 4,
 "nbformat_minor": 2
}
